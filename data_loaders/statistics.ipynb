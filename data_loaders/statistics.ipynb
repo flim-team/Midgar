{
 "cells": [
  {
   "cell_type": "code",
   "execution_count": null,
   "metadata": {},
   "outputs": [],
   "source": [
    "from data_loaders import screenshot_loader\n",
    "import matplotlib.pyplot as plt\n",
    "\n",
    "shotscale_loader = ShotScaleLoader()\n",
    "datapoints = shotscale_loader.obtain_valid_datapoints()\n",
    "\n",
    "year_statistics = {}\n",
    "director_statistics = {}\n",
    "movie_statistics = {}\n",
    "classes_statistics = {}\n",
    "\n",
    "for datapoint in datapoints:\n",
    "    if datapoint.year not in year_statistics:\n",
    "        year_statistics[datapoint.year] = {}\n",
    "    if datapoint.director not in director_statistics:\n",
    "        director_statistics[datapoint.director] = {}\n",
    "    if datapoint.title not in movie_statistics:\n",
    "        movie_statistics[datapoint.title] = {}\n",
    "\n",
    "    if datapoint.clas not in movie_statistics[datapoint.year]:\n",
    "        movie_statistics[datapoint.year][datapoint.clas] = 0\n",
    "    if datapoint.clas not in movie_statistics[datapoint.director]:\n",
    "        movie_statistics[datapoint.director][datapoint.clas] = 0\n",
    "    if datapoint.clas not in movie_statistics[datapoint.title]:\n",
    "        movie_statistics[datapoint.title][datapoint.clas] = 0\n",
    "    if datapoint.clas not in classes_statistics:\n",
    "        classes_statistics[datapoint.clas] = 0\n",
    "\n",
    "    classes_statistics[datapoint.clas] += 1\n",
    "    movie_statistics[datapoint.title][datapoint.clas] += 1\n",
    "    movie_statistics[datapoint.director][datapoint.clas] += 1\n",
    "    movie_statistics[datapoint.year][datapoint.clas] += 1\n",
    "\n",
    "\n",
    "plt.xlabel('Smarts')\n",
    "plt.ylabel('Probability')\n",
    "plt.title(r'$\\mathrm{Histogram\\ of\\ IQ:}\\ \\mu=100,\\ \\sigma=15$')\n",
    "plt.axis([40, 160, 0, 0.03])\n",
    "plt.grid(True)\n",
    "\n",
    "plt.show()\n",
    "\n",
    "\n",
    "\n"
   ]
  }
 ],
 "metadata": {
  "language_info": {
   "codemirror_mode": {
    "name": "ipython",
    "version": 3
   },
   "file_extension": ".py",
   "mimetype": "text/x-python",
   "name": "python",
   "nbconvert_exporter": "python",
   "pygments_lexer": "ipython3",
   "version": 3
  },
  "orig_nbformat": 2
 },
 "nbformat": 4,
 "nbformat_minor": 2
}